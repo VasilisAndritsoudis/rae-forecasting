{
 "cells": [
  {
   "cell_type": "code",
   "id": "initial_id",
   "metadata": {
    "collapsed": true,
    "ExecuteTime": {
     "end_time": "2024-05-22T15:43:22.658322Z",
     "start_time": "2024-05-22T15:43:21.331296Z"
    }
   },
   "source": [
    "import pandas as pd\n",
    "import numpy as np"
   ],
   "outputs": [],
   "execution_count": 1
  },
  {
   "metadata": {},
   "cell_type": "markdown",
   "source": "## Concat all 2023 excel files into a single DataFrame",
   "id": "173fa79b0f8ddefe"
  },
  {
   "metadata": {
    "ExecuteTime": {
     "end_time": "2024-05-22T15:46:54.458122Z",
     "start_time": "2024-05-22T15:46:24.370158Z"
    }
   },
   "cell_type": "code",
   "source": [
    "excel_files = ['2020-12 - Dec.xlsx', '2021-03 - Mar.xlsx', '2021-05 - May.xlsx', '2021-08 - Aug.xlsx', '2021-10 - Oct.xlsx', '2022-03 - Mar.xlsx', '2022-09 - Sep.xlsx', '2022-12 - Dec.xlsx', '2023-01 - Jan.xlsx', '2023-02 - Feb.xlsx', '2023-03 - Mar.xlsx', '2023-05 - May.xlsx', '2023-06 - Jun.xlsx', '2023-07 - Jul.xlsx', '2023-09 - Sep.xlsx', '2023-10 - Oct.xlsx', '2023-11 - Nov.xlsx', '2024-02 - Feb.xlsx', '2024-03 - Mar.xlsx']\n",
    "\n",
    "excel_cols = ['AΡΙΘΜΟΣ ΜΗΤΡΩΟΥ ΑΔΕΙΩΝ', 'ΗΜΕΡΟΜΗΝΙΑ ΥΠΟΒΟΛΗΣ ΑΙΤΗΣΗΣ', 'ΗΜΕΡΟΜΗΝΙΑ ΕΚΔ. ΑΔ.ΠΑΡΑΓΩΓΗΣ', 'ΗΜΕΡΟΜΗΝΙΑ ΛΗΞΗΣ ΑΔ.ΠΑΡΑΓΩΓΗΣ', 'ΠΕΡΙΦΕΡΕΙΑ', 'ΠΕΡΙΦΕΡΕΙΑΚΗ ΕΝΟΤΗΤΑ', 'ΔΗΜΟΣ', 'ΜΕΓΙΣΤΗ ΙΣΧΥΣ (MW)', 'ΤΕΧΝΟΛΟΓΙΑ']\n",
    "\n",
    "df = pd.DataFrame()\n",
    "for excel_file in excel_files:\n",
    "    df_excel =  pd.read_excel('data\\\\' + excel_file, usecols=excel_cols, skiprows=[0])\n",
    "    \n",
    "    df = pd.concat([df,df_excel]).drop_duplicates().reset_index(drop=True)\n",
    "\n",
    "print(f\"Concatenated excel files df size: {len(df.index)}\")"
   ],
   "id": "4b67b55869b0409d",
   "outputs": [
    {
     "name": "stdout",
     "output_type": "stream",
     "text": [
      "Concatenated excel files df size: 12614\n"
     ]
    }
   ],
   "execution_count": 5
  },
  {
   "metadata": {},
   "cell_type": "markdown",
   "source": "## Filter out invalid dates",
   "id": "ad089e92e8017639"
  },
  {
   "metadata": {
    "ExecuteTime": {
     "end_time": "2024-05-22T15:48:09.830386Z",
     "start_time": "2024-05-22T15:48:09.786176Z"
    }
   },
   "cell_type": "code",
   "source": [
    "df['ΗΜΕΡΟΜΗΝΙΑ ΕΚΔ. ΑΔ.ΠΑΡΑΓΩΓΗΣ'] = df['ΗΜΕΡΟΜΗΝΙΑ ΕΚΔ. ΑΔ.ΠΑΡΑΓΩΓΗΣ'].astype(str)\n",
    "df['ΗΜΕΡΟΜΗΝΙΑ ΕΚΔ. ΑΔ.ΠΑΡΑΓΩΓΗΣ'] = pd.to_datetime(df['ΗΜΕΡΟΜΗΝΙΑ ΕΚΔ. ΑΔ.ΠΑΡΑΓΩΓΗΣ'], errors='coerce')\n",
    "df = df.dropna(subset=['ΗΜΕΡΟΜΗΝΙΑ ΕΚΔ. ΑΔ.ΠΑΡΑΓΩΓΗΣ'])\n",
    "\n",
    "df['ΗΜΕΡΟΜΗΝΙΑ ΥΠΟΒΟΛΗΣ ΑΙΤΗΣΗΣ'] = df['ΗΜΕΡΟΜΗΝΙΑ ΥΠΟΒΟΛΗΣ ΑΙΤΗΣΗΣ'].astype(str)\n",
    "df['ΗΜΕΡΟΜΗΝΙΑ ΥΠΟΒΟΛΗΣ ΑΙΤΗΣΗΣ'] = pd.to_datetime(df['ΗΜΕΡΟΜΗΝΙΑ ΥΠΟΒΟΛΗΣ ΑΙΤΗΣΗΣ'], errors='coerce')\n",
    "df = df.dropna(subset=['ΗΜΕΡΟΜΗΝΙΑ ΥΠΟΒΟΛΗΣ ΑΙΤΗΣΗΣ'])\n",
    "\n",
    "df['ΗΜΕΡΟΜΗΝΙΑ ΛΗΞΗΣ ΑΔ.ΠΑΡΑΓΩΓΗΣ'] = df['ΗΜΕΡΟΜΗΝΙΑ ΛΗΞΗΣ ΑΔ.ΠΑΡΑΓΩΓΗΣ'].astype(str)\n",
    "df['ΗΜΕΡΟΜΗΝΙΑ ΛΗΞΗΣ ΑΔ.ΠΑΡΑΓΩΓΗΣ'] = pd.to_datetime(df['ΗΜΕΡΟΜΗΝΙΑ ΛΗΞΗΣ ΑΔ.ΠΑΡΑΓΩΓΗΣ'], errors='coerce')\n",
    "df = df.dropna(subset=['ΗΜΕΡΟΜΗΝΙΑ ΛΗΞΗΣ ΑΔ.ΠΑΡΑΓΩΓΗΣ'])\n",
    "\n",
    "print(f\"Filtered df size: {len(df.index)}\")"
   ],
   "id": "b788150a284abe7f",
   "outputs": [
    {
     "name": "stdout",
     "output_type": "stream",
     "text": [
      "Filtered df size: 6300\n"
     ]
    }
   ],
   "execution_count": 6
  },
  {
   "metadata": {},
   "cell_type": "markdown",
   "source": "## Process dates and differences",
   "id": "114f98fdd921b763"
  },
  {
   "metadata": {
    "ExecuteTime": {
     "end_time": "2024-05-22T15:48:11.619111Z",
     "start_time": "2024-05-22T15:48:11.568578Z"
    }
   },
   "cell_type": "code",
   "source": [
    "df['ΜΗΝΑΣ ΕΚΔ. ΑΔ.ΠΑΡΑΓΩΓΗΣ'] = df['ΗΜΕΡΟΜΗΝΙΑ ΕΚΔ. ΑΔ.ΠΑΡΑΓΩΓΗΣ'].dt.strftime('%Y-%m')\n",
    "df['ΕΒΔΟΜΑΔΑ ΕΚΔ. ΑΔ.ΠΑΡΑΓΩΓΗΣ'] = df['ΗΜΕΡΟΜΗΝΙΑ ΕΚΔ. ΑΔ.ΠΑΡΑΓΩΓΗΣ'].dt.strftime('%Y-%W')\n",
    "\n",
    "df['ΔΙΑΣΤΗΜΑ ΕΓΚΡΙΣΗΣ ΣΕ ΜΗΝΕΣ'] = ((df['ΗΜΕΡΟΜΗΝΙΑ ΕΚΔ. ΑΔ.ΠΑΡΑΓΩΓΗΣ'] - df['ΗΜΕΡΟΜΗΝΙΑ ΥΠΟΒΟΛΗΣ ΑΙΤΗΣΗΣ']) / (((0.75 * 365) + (0.25 * 366)) / 12)).dt.days  # We explicitly define one month to be 30.4375 days\n",
    "df['ΔΙΑΣΤΗΜΑ ΕΓΚΡΙΣΗΣ ΣΕ ΕΒΔΟΜΑΔΕΣ'] = ((df['ΗΜΕΡΟΜΗΝΙΑ ΕΚΔ. ΑΔ.ΠΑΡΑΓΩΓΗΣ'] - df['ΗΜΕΡΟΜΗΝΙΑ ΥΠΟΒΟΛΗΣ ΑΙΤΗΣΗΣ']) / np.timedelta64(1, 'W')).astype(int)\n",
    "\n",
    "df['ΔΙΑΡΚΕΙΑ ΑΔΕΙΑΣ ΣΕ ΜΗΝΕΣ'] = ((df['ΗΜΕΡΟΜΗΝΙΑ ΛΗΞΗΣ ΑΔ.ΠΑΡΑΓΩΓΗΣ'] - df['ΗΜΕΡΟΜΗΝΙΑ ΕΚΔ. ΑΔ.ΠΑΡΑΓΩΓΗΣ']) / (((0.75 * 365) + (0.25 * 366)) / 12)).dt.days  # We explicitly define one month to be 30.4375 days\n",
    "df['ΔΙΑΡΚΕΙΑ ΑΔΕΙΑΣ ΣΕ ΕΒΔΟΜΑΔΕΣ'] = ((df['ΗΜΕΡΟΜΗΝΙΑ ΛΗΞΗΣ ΑΔ.ΠΑΡΑΓΩΓΗΣ'] - df['ΗΜΕΡΟΜΗΝΙΑ ΕΚΔ. ΑΔ.ΠΑΡΑΓΩΓΗΣ']) / np.timedelta64(1, 'W')).astype(int)"
   ],
   "id": "e7fb73626e905f2e",
   "outputs": [],
   "execution_count": 7
  },
  {
   "metadata": {},
   "cell_type": "markdown",
   "source": "## Find the duplicate permit IDs",
   "id": "5d102936c3909b68"
  },
  {
   "metadata": {
    "ExecuteTime": {
     "end_time": "2024-05-22T15:50:50.802531Z",
     "start_time": "2024-05-22T15:50:50.767893Z"
    }
   },
   "cell_type": "code",
   "source": [
    "dup_df = df[df.duplicated(subset=['AΡΙΘΜΟΣ ΜΗΤΡΩΟΥ ΑΔΕΙΩΝ'], keep=False)]\n",
    "dup_df.sort_values(by='AΡΙΘΜΟΣ ΜΗΤΡΩΟΥ ΑΔΕΙΩΝ')\n",
    "dup_df.to_csv('duplicates.csv', encoding='utf-8', index=False)\n",
    "\n",
    "print(f\"Number of duplicate entry pairs in the df: {int((len(dup_df.index) - 1) / 2)}\")"
   ],
   "id": "2a94906fe068d5a7",
   "outputs": [
    {
     "name": "stdout",
     "output_type": "stream",
     "text": [
      "Number of duplicate entry pairs in the df: 2004\n"
     ]
    }
   ],
   "execution_count": 12
  },
  {
   "metadata": {},
   "cell_type": "markdown",
   "source": "## Remove the duplicate permit IDs by keeping only the last entry",
   "id": "ca0ac302c8c7b35c"
  },
  {
   "metadata": {
    "ExecuteTime": {
     "end_time": "2024-05-22T15:50:53.962078Z",
     "start_time": "2024-05-22T15:50:53.945434Z"
    }
   },
   "cell_type": "code",
   "source": [
    "dups_df = df[df.duplicated(subset=['AΡΙΘΜΟΣ ΜΗΤΡΩΟΥ ΑΔΕΙΩΝ'], keep='first')]\n",
    "df = pd.concat([df, dups_df, dups_df]).drop_duplicates(keep=False).reset_index(drop=True)\n",
    "\n",
    "print(f\"Final number of unique permits in the dataset: {len(df.index)}\")"
   ],
   "id": "e55f8ea66f619528",
   "outputs": [
    {
     "name": "stdout",
     "output_type": "stream",
     "text": [
      "Final number of unique permits in the dataset: 4094\n"
     ]
    }
   ],
   "execution_count": 13
  },
  {
   "metadata": {},
   "cell_type": "markdown",
   "source": "## Save the data into a .csv",
   "id": "2d966727c3cdfb84"
  },
  {
   "metadata": {
    "ExecuteTime": {
     "end_time": "2024-05-22T15:50:56.226336Z",
     "start_time": "2024-05-22T15:50:56.194947Z"
    }
   },
   "cell_type": "code",
   "source": [
    "# df = df.loc[df['ΗΜΕΡΟΜΗΝΙΑ ΕΚΔ. ΑΔ.ΠΑΡΑΓΩΓΗΣ'] > '2022-12-31']\n",
    "df.sort_values(by='ΗΜΕΡΟΜΗΝΙΑ ΕΚΔ. ΑΔ.ΠΑΡΑΓΩΓΗΣ', inplace = True) \n",
    "df.to_csv('permits.csv', encoding='utf-8', index=False)"
   ],
   "id": "b8df55a24d85da4e",
   "outputs": [],
   "execution_count": 14
  }
 ],
 "metadata": {
  "kernelspec": {
   "display_name": "Python 3",
   "language": "python",
   "name": "python3"
  },
  "language_info": {
   "codemirror_mode": {
    "name": "ipython",
    "version": 2
   },
   "file_extension": ".py",
   "mimetype": "text/x-python",
   "name": "python",
   "nbconvert_exporter": "python",
   "pygments_lexer": "ipython2",
   "version": "2.7.6"
  }
 },
 "nbformat": 4,
 "nbformat_minor": 5
}
